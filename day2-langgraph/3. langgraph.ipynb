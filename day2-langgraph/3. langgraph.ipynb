{
 "cells": [
  {
   "cell_type": "markdown",
   "metadata": {},
   "source": [
    "# LLM"
   ]
  },
  {
   "cell_type": "markdown",
   "metadata": {},
   "source": [
    "## LLM 은 무엇인가?\n",
    "\n",
    "뭔가를 물어보면 답을 해주는 말만하는 입코딩만 하는 봇입니다."
   ]
  },
  {
   "cell_type": "markdown",
   "metadata": {},
   "source": [
    "## LLM의 흐름 \n",
    "\n",
    "기본적으로 2개의 흐름으로 나아가고 있습니다.\n",
    "\n",
    "1. RAG \n",
    "1. AGENT"
   ]
  },
  {
   "cell_type": "markdown",
   "metadata": {},
   "source": [
    "## RAG (Retrieval-Augmented Generation) \n",
    "\n",
    "검색 증강 생성\n",
    "\n",
    "https://teamsmiley.gitbook.io/devops/ai/langchain/rag"
   ]
  },
  {
   "cell_type": "markdown",
   "metadata": {},
   "source": [
    "## AGENT\n",
    "\n",
    "인공지능이 나를 대신해서 생각을 해주는것. \n",
    "\n",
    "여전히 내가 특정일에 대한 코딩은 다 해야한다. 그러나 생각하는 부분은 인공지능이 해준다.\n",
    "\n",
    "중요한것은 하나의 일만 생각하는게 아니라 하나의 일을 시키면 그 여러가지 단계를 생각하고 거기에 맞는 답을 순차적으로 해준다.\n",
    "\n",
    "인공지능 = LLM"
   ]
  },
  {
   "cell_type": "markdown",
   "metadata": {},
   "source": [
    "### ReAct \n",
    "\n",
    "https://react-lm.github.io/\n",
    "\n",
    "https://til.simonwillison.net/llms/python-react-pattern"
   ]
  },
  {
   "cell_type": "markdown",
   "metadata": {},
   "source": [
    "## openai에  사용하기"
   ]
  },
  {
   "cell_type": "code",
   "execution_count": 13,
   "metadata": {},
   "outputs": [
    {
     "data": {
      "text/plain": [
       "True"
      ]
     },
     "execution_count": 13,
     "metadata": {},
     "output_type": "execute_result"
    }
   ],
   "source": [
    "from dotenv import load_dotenv\n",
    "\n",
    "load_dotenv()"
   ]
  },
  {
   "cell_type": "code",
   "execution_count": 14,
   "metadata": {},
   "outputs": [
    {
     "name": "stdout",
     "output_type": "stream",
     "text": [
      "[답변]: content='대한민국의 수도는 서울입니다.' response_metadata={'token_usage': {'completion_tokens': 15, 'prompt_tokens': 24, 'total_tokens': 39}, 'model_name': 'gpt-3.5-turbo-0125', 'system_fingerprint': None, 'finish_reason': 'stop', 'logprobs': None} id='run-f8d3072a-ae69-4507-8990-1a60a52a4851-0' usage_metadata={'input_tokens': 24, 'output_tokens': 15, 'total_tokens': 39}\n"
     ]
    }
   ],
   "source": [
    "from langchain_openai import ChatOpenAI\n",
    "\n",
    "llm = ChatOpenAI(\n",
    "  temperature = 0.1, # 창의성 (0.0 ~ 2.0)\n",
    ")\n",
    "\n",
    "# 질의내용\n",
    "prompt = \"대한민국의 수도는 어디인가요?\"\n",
    "answer = llm.invoke(prompt)\n",
    "# 질의\n",
    "print(f\"[답변]: {answer}\")"
   ]
  },
  {
   "cell_type": "markdown",
   "metadata": {},
   "source": [
    "현재 구조 \n",
    "![alt text](images/Readme/image-1.png)"
   ]
  },
  {
   "cell_type": "markdown",
   "metadata": {},
   "source": [
    "## 만들것"
   ]
  },
  {
   "cell_type": "markdown",
   "metadata": {},
   "source": [
    "![alt text](images/Readme/image.png)"
   ]
  },
  {
   "cell_type": "markdown",
   "metadata": {},
   "source": [
    "## 추가로 알아야할것 \n",
    "\n",
    "- tool :  function calling  \n",
    "\n",
    "tools.ipynb로 가서 확인해보자."
   ]
  },
  {
   "cell_type": "markdown",
   "metadata": {},
   "source": [
    "## Langgraph"
   ]
  },
  {
   "cell_type": "markdown",
   "metadata": {},
   "source": [
    "### Nodes & Edges"
   ]
  },
  {
   "cell_type": "markdown",
   "metadata": {},
   "source": [
    "### Node \n",
    "\n",
    "- 수행하고자 하는 작업 내용으로 각 노드들은 서로 다른 다양한 작업들을 보유한다  \n",
    "- Function (e.g., an external tool)   \n",
    "\n",
    "\n",
    "### Edge\n",
    "\n",
    "- 노드와 노드 사이의 연결하여 각 노드가 가지고 있는 정보를 통해 커뮤니케이션하는 역할 수행  \n",
    "- 경로 \n",
    "\n",
    "### State\n",
    "\n",
    "- 전달할 데이터\n",
    "- 글로벌이라는게 중요\n",
    "\n"
   ]
  },
  {
   "cell_type": "markdown",
   "metadata": {},
   "source": [
    "https://lucid.app/lucidchart/d7d64dc6-9e27-42eb-b365-2f58b3920347/edit?invitationId=inv_bf178260-510c-4128-a700-e708f7a66a12&page=0_0#"
   ]
  },
  {
   "cell_type": "code",
   "execution_count": 15,
   "metadata": {},
   "outputs": [],
   "source": [
    "from langchain_core.messages import HumanMessage\n",
    "from langgraph.graph import END, MessageGraph\n",
    "\n",
    "\n",
    "def add_one(input: list[HumanMessage]):\n",
    "    input[0].content = input[0].content + \"a\"\n",
    "    return input\n",
    "\n",
    "def add_two(input: list[HumanMessage]):\n",
    "    input[0].content = input[0].content + \"aa\"\n",
    "    return input\n",
    "\n",
    "\n",
    "def add_three(input: list[HumanMessage]):\n",
    "    input[0].content = input[0].content + \"aaa\"\n",
    "    return input\n",
    "\n",
    "graph = MessageGraph()\n",
    "\n",
    "graph.add_node(\"branch_a\", add_one)\n",
    "graph.add_node(\"branch_b\", add_two)\n",
    "graph.add_node(\"branch_c\", add_three)\n",
    "graph.add_node(\"final_node\", add_one)\n",
    "\n",
    "graph.add_edge(\"branch_a\", \"branch_b\")\n",
    "graph.add_edge(\"branch_a\", \"branch_c\")\n",
    "graph.add_edge(\"branch_b\", \"final_node\")\n",
    "graph.add_edge(\"branch_c\", \"final_node\")\n",
    "graph.add_edge(\"final_node\", END)\n",
    "\n",
    "graph.set_entry_point(\"branch_a\")\n",
    "\n",
    "runnable = graph.compile()"
   ]
  },
  {
   "cell_type": "code",
   "execution_count": 16,
   "metadata": {},
   "outputs": [
    {
     "data": {
      "image/jpeg": "[encoded data removed]",
      "text/plain": [
       "<IPython.core.display.Image object>"
      ]
     },
     "metadata": {},
     "output_type": "display_data"
    }
   ],
   "source": [
    "from IPython.display import Image, display\n",
    "\n",
    "display(Image(runnable.get_graph().draw_mermaid_png()))"
   ]
  },
  {
   "cell_type": "code",
   "execution_count": 17,
   "metadata": {},
   "outputs": [
    {
     "data": {
      "text/plain": [
       "[HumanMessage(content='hello-aaaaaaa', id='3fc3be0d-7802-465f-b077-4a3915b86125')]"
      ]
     },
     "execution_count": 17,
     "metadata": {},
     "output_type": "execute_result"
    }
   ],
   "source": [
    "runnable.invoke(\"hello-\")"
   ]
  },
  {
   "cell_type": "markdown",
   "metadata": {},
   "source": [
    "### Conditional Edges"
   ]
  },
  {
   "cell_type": "code",
   "execution_count": 18,
   "metadata": {},
   "outputs": [],
   "source": [
    "from langchain_core.messages import HumanMessage\n",
    "from langgraph.graph import END, MessageGraph\n",
    "\n",
    "\n",
    "def entry(input: list[HumanMessage]):\n",
    "    return input\n",
    "\n",
    "\n",
    "def work_with_b(input: list[HumanMessage]):\n",
    "    print(\"Using branch B\")\n",
    "    return input\n",
    "\n",
    "\n",
    "def work_with_c(input: list[HumanMessage]):\n",
    "    print(\"Using branch C\")\n",
    "    return input\n",
    "\n",
    "\n",
    "def router(input: list[HumanMessage]):\n",
    "    if \"use_b\" in input[0].content:\n",
    "        return \"branch_b\"\n",
    "    else:\n",
    "        return \"branch_c\"\n",
    "\n",
    "\n",
    "graph = MessageGraph()\n",
    "\n",
    "graph.add_node(\"branch_a\", entry)\n",
    "graph.add_node(\"branch_b\", work_with_b)\n",
    "graph.add_node(\"branch_c\", work_with_c)\n",
    "\n",
    "graph.add_conditional_edges(\n",
    "    \"branch_a\", router, {\"branch_b\": \"branch_b\", \"branch_c\": \"branch_c\"}\n",
    ")\n",
    "graph.add_edge(\"branch_b\", END)\n",
    "graph.add_edge(\"branch_c\", END)\n",
    "\n",
    "graph.set_entry_point(\"branch_a\")\n",
    "\n",
    "runnable = graph.compile()"
   ]
  },
  {
   "cell_type": "code",
   "execution_count": 19,
   "metadata": {},
   "outputs": [
    {
     "data": {
      "image/jpeg": "[encoded data removed]",
      "text/plain": [
       "<IPython.core.display.Image object>"
      ]
     },
     "metadata": {},
     "output_type": "display_data"
    }
   ],
   "source": [
    "from IPython.display import Image, display\n",
    "display(Image(runnable.get_graph().draw_mermaid_png()))"
   ]
  },
  {
   "cell_type": "code",
   "execution_count": 20,
   "metadata": {},
   "outputs": [
    {
     "name": "stdout",
     "output_type": "stream",
     "text": [
      "Using branch C\n"
     ]
    },
    {
     "data": {
      "text/plain": [
       "[HumanMessage(content='hello', id='9d4533cc-8632-4603-a6e4-d9bb0fab9993')]"
      ]
     },
     "execution_count": 20,
     "metadata": {},
     "output_type": "execute_result"
    }
   ],
   "source": [
    "runnable.invoke(\"hello\")"
   ]
  },
  {
   "cell_type": "code",
   "execution_count": 21,
   "metadata": {},
   "outputs": [
    {
     "name": "stdout",
     "output_type": "stream",
     "text": [
      "Using branch B\n"
     ]
    },
    {
     "data": {
      "text/plain": [
       "[HumanMessage(content='I want to use_b', id='4f22d126-71ff-4d0d-a25c-d69808ced4bf')]"
      ]
     },
     "execution_count": 21,
     "metadata": {},
     "output_type": "execute_result"
    }
   ],
   "source": [
    "runnable.invoke(\"I want to use_b\")"
   ]
  },
  {
   "cell_type": "markdown",
   "metadata": {},
   "source": [
    "### Cycles"
   ]
  },
  {
   "cell_type": "code",
   "execution_count": 22,
   "metadata": {},
   "outputs": [],
   "source": [
    "from langchain_openai import ChatOpenAI\n",
    "from langchain_core.messages import HumanMessage\n",
    "from langgraph.graph import END, MessageGraph\n",
    "\n",
    "from dotenv import load_dotenv\n",
    "\n",
    "load_dotenv()\n",
    "\n",
    "model = ChatOpenAI(temperature=0)\n",
    "\n",
    "\n",
    "def entry(input: list[HumanMessage]):\n",
    "    return input\n",
    "\n",
    "\n",
    "def action(input: list[HumanMessage]):\n",
    "    print(\"Action taken:\", [msg.content for msg in input])\n",
    "    if len(input) > 5:\n",
    "        input.append(HumanMessage(content=\"end\"))\n",
    "    else:\n",
    "        input.append(HumanMessage(content=\"continue\"))\n",
    "    return input\n",
    "\n",
    "\n",
    "def should_continue(input: list):\n",
    "    last_message = input[-1]\n",
    "    if \"end\" in last_message.content:\n",
    "        return \"__end__\"\n",
    "    return \"action\"\n",
    "\n",
    "\n",
    "graph = MessageGraph()\n",
    "\n",
    "graph.add_node(\"agent\", entry)\n",
    "graph.add_node(\"action\", action)\n",
    "\n",
    "graph.add_conditional_edges(\n",
    "    \"agent\", should_continue, {\"action\": \"action\", \"__end__\": END}\n",
    ")\n",
    "graph.add_edge(\"action\", \"agent\")\n",
    "\n",
    "graph.set_entry_point(\"agent\")\n",
    "\n",
    "runnable = graph.compile()"
   ]
  },
  {
   "cell_type": "code",
   "execution_count": 8,
   "metadata": {},
   "outputs": [
    {
     "data": {
      "image/jpeg": "[encoded data removed]",
      "text/plain": [
       "<IPython.core.display.Image object>"
      ]
     },
     "metadata": {},
     "output_type": "display_data"
    }
   ],
   "source": [
    "display(Image(runnable.get_graph().draw_mermaid_png()))"
   ]
  },
  {
   "cell_type": "code",
   "execution_count": 23,
   "metadata": {},
   "outputs": [
    {
     "name": "stdout",
     "output_type": "stream",
     "text": [
      "Action taken: ['Hello']\n",
      "Action taken: ['Hello', 'continue']\n",
      "Action taken: ['Hello', 'continue', 'continue']\n",
      "Action taken: ['Hello', 'continue', 'continue', 'continue']\n",
      "Action taken: ['Hello', 'continue', 'continue', 'continue', 'continue']\n",
      "Action taken: ['Hello', 'continue', 'continue', 'continue', 'continue', 'continue']\n"
     ]
    },
    {
     "data": {
      "text/plain": [
       "[HumanMessage(content='Hello', id='ab666d93-45f3-42f4-bb85-f0d73adca23e'),\n",
       " HumanMessage(content='continue', id='b6f26256-8ace-4220-9a53-c28f096ad9e8'),\n",
       " HumanMessage(content='continue', id='e61c7fa5-c857-4c9e-85a4-67a69e07a066'),\n",
       " HumanMessage(content='continue', id='d18e3dd4-828a-4da4-a3de-e5369427424a'),\n",
       " HumanMessage(content='continue', id='f6f687aa-e0b7-4ff4-9f9d-d4e4b7084e5e'),\n",
       " HumanMessage(content='continue', id='f89ae6f3-c864-4d02-828a-9a65f1bf6980'),\n",
       " HumanMessage(content='end', id='5ea6d8a1-91fa-4474-ac8b-49fae92581a1')]"
      ]
     },
     "execution_count": 23,
     "metadata": {},
     "output_type": "execute_result"
    }
   ],
   "source": [
    "runnable.invoke(\"Hello\")"
   ]
  },
  {
   "cell_type": "markdown",
   "metadata": {},
   "source": [
    "## RunnableConfig"
   ]
  },
  {
   "cell_type": "code",
   "execution_count": 24,
   "metadata": {},
   "outputs": [],
   "source": [
    "from langchain_core.messages import HumanMessage\n",
    "from langgraph.graph import END, MessageGraph\n",
    "\n",
    "\n",
    "def add_one(input: list[HumanMessage]):\n",
    "    input[0].content = input[0].content + \"a\"\n",
    "    return input\n",
    "\n",
    "\n",
    "graph = MessageGraph()\n",
    "\n",
    "graph.add_node(\"branch_a\", add_one)\n",
    "graph.add_node(\"branch_b\", add_one)\n",
    "graph.add_node(\"branch_c\", add_one)\n",
    "graph.add_node(\"final_node\", add_one)\n",
    "\n",
    "graph.add_edge(\"branch_a\", \"branch_b\")\n",
    "graph.add_edge(\"branch_a\", \"branch_c\")\n",
    "graph.add_edge(\"branch_b\", \"final_node\")\n",
    "graph.add_edge(\"branch_c\", \"final_node\")\n",
    "graph.add_edge(\"final_node\", END)\n",
    "\n",
    "graph.set_entry_point(\"branch_a\")\n",
    "\n",
    "runnable = graph.compile()"
   ]
  },
  {
   "cell_type": "code",
   "execution_count": 25,
   "metadata": {},
   "outputs": [],
   "source": [
    "from langchain_core.runnables import RunnableConfig\n",
    "\n",
    "# config = RunnableConfig()\n",
    "config = RunnableConfig(recursion_limit=10, configurable={\"thread_id\": \"mytest-1\"})"
   ]
  },
  {
   "cell_type": "code",
   "execution_count": 26,
   "metadata": {},
   "outputs": [
    {
     "data": {
      "text/plain": [
       "[HumanMessage(content='hello-aaaa', id='f43ec634-5177-4f5c-bd5b-4cb5b8d491eb')]"
      ]
     },
     "execution_count": 26,
     "metadata": {},
     "output_type": "execute_result"
    }
   ],
   "source": [
    "runnable.invoke(\"hello-\", config=config)"
   ]
  },
  {
   "cell_type": "markdown",
   "metadata": {},
   "source": [
    "### Real Agent - now lets create an Agent that actually does something - skip하자\n"
   ]
  },
  {
   "cell_type": "code",
   "execution_count": 28,
   "metadata": {},
   "outputs": [
    {
     "data": {
      "text/plain": [
       "True"
      ]
     },
     "execution_count": 28,
     "metadata": {},
     "output_type": "execute_result"
    }
   ],
   "source": [
    "import os\n",
    "\n",
    "from dotenv import load_dotenv\n",
    "\n",
    "load_dotenv()\n",
    "\n"
   ]
  },
  {
   "cell_type": "code",
   "execution_count": 29,
   "metadata": {},
   "outputs": [],
   "source": [
    "from langchain_openai import ChatOpenAI\n",
    "\n",
    "model = ChatOpenAI(temperature=0)"
   ]
  },
  {
   "cell_type": "code",
   "execution_count": 30,
   "metadata": {},
   "outputs": [],
   "source": [
    "from typing import TypedDict, Annotated, Sequence\n",
    "import operator\n",
    "from langchain_core.messages import BaseMessage\n",
    "\n",
    "\n",
    "class AgentState(TypedDict):\n",
    "    messages: Annotated[Sequence[BaseMessage], operator.add]\n",
    "    api_call_count: int = 0"
   ]
  },
  {
   "cell_type": "code",
   "execution_count": 31,
   "metadata": {},
   "outputs": [],
   "source": [
    "from langchain_core.tools import tool\n",
    "import random\n",
    "\n",
    "\n",
    "@tool\n",
    "def fake_weather_api(city: str) -> str:\n",
    "    \"\"\"Check the weather in a specified city. The API is available randomly, approximately every third call.\"\"\"\n",
    "\n",
    "    if random.randint(1, 2) == 1:  # Approximately one-third chance\n",
    "        return \"Sunny, 22°C\"\n",
    "    else:\n",
    "        return \"Service temporarily unavailable\""
   ]
  },
  {
   "cell_type": "code",
   "execution_count": 32,
   "metadata": {},
   "outputs": [
    {
     "name": "stdout",
     "output_type": "stream",
     "text": [
      "Sunny, 22°C\n",
      "Service temporarily unavailable\n",
      "Sunny, 22°C\n"
     ]
    },
    {
     "name": "stderr",
     "output_type": "stream",
     "text": [
      "/root/.local/lib/python3.12/site-packages/langchain_core/_api/deprecation.py:139: LangChainDeprecationWarning: The method `BaseTool.__call__` was deprecated in langchain-core 0.1.47 and will be removed in 0.3.0. Use invoke instead.\n",
      "  warn_deprecated(\n"
     ]
    }
   ],
   "source": [
    "print(fake_weather_api(\"New York\"))\n",
    "print(fake_weather_api(\"London\"))\n",
    "print(fake_weather_api(\"Berlin\"))"
   ]
  },
  {
   "cell_type": "code",
   "execution_count": 33,
   "metadata": {},
   "outputs": [],
   "source": [
    "llm_with_tools = model.bind_tools([fake_weather_api])"
   ]
  },
  {
   "cell_type": "code",
   "execution_count": 34,
   "metadata": {},
   "outputs": [
    {
     "name": "stdout",
     "output_type": "stream",
     "text": [
      "[HumanMessage(content='How will the weather be in munich today? I would like to eat outside if possible'), AIMessage(content='', additional_kwargs={'tool_calls': [{'id': 'call_CvIENeOHn3T9kf8uhVYIDA6g', 'function': {'arguments': '{\"city\":\"Munich\"}', 'name': 'fake_weather_api'}, 'type': 'function'}]}, response_metadata={'token_usage': {'completion_tokens': 17, 'prompt_tokens': 76, 'total_tokens': 93}, 'model_name': 'gpt-3.5-turbo-0125', 'system_fingerprint': None, 'finish_reason': 'tool_calls', 'logprobs': None}, id='run-d519c5d0-74bc-4535-ad5d-3738c7ce5a0d-0', tool_calls=[{'name': 'fake_weather_api', 'args': {'city': 'Munich'}, 'id': 'call_CvIENeOHn3T9kf8uhVYIDA6g', 'type': 'tool_call'}], usage_metadata={'input_tokens': 76, 'output_tokens': 17, 'total_tokens': 93})]\n"
     ]
    }
   ],
   "source": [
    "from langchain_core.messages import HumanMessage, ToolMessage\n",
    "\n",
    "tool_mapping = {\"fake_weather_api\": fake_weather_api}\n",
    "\n",
    "messages = [\n",
    "    HumanMessage(\n",
    "        \"How will the weather be in munich today? I would like to eat outside if possible\"\n",
    "    )\n",
    "]\n",
    "llm_output = llm_with_tools.invoke(messages)\n",
    "messages.append(llm_output)\n",
    "print(messages)"
   ]
  },
  {
   "cell_type": "code",
   "execution_count": 35,
   "metadata": {},
   "outputs": [
    {
     "data": {
      "text/plain": [
       "AIMessage(content='The weather in Munich today is sunny with a temperature of 22°C. It looks like a great day to eat outside! Enjoy your meal!', response_metadata={'token_usage': {'completion_tokens': 30, 'prompt_tokens': 108, 'total_tokens': 138}, 'model_name': 'gpt-3.5-turbo-0125', 'system_fingerprint': None, 'finish_reason': 'stop', 'logprobs': None}, id='run-efedabc2-2b9e-4a0a-89c3-4a1c078ffaa2-0', usage_metadata={'input_tokens': 108, 'output_tokens': 30, 'total_tokens': 138})"
      ]
     },
     "execution_count": 35,
     "metadata": {},
     "output_type": "execute_result"
    }
   ],
   "source": [
    "for tool_call in llm_output.tool_calls:\n",
    "    tool = tool_mapping[tool_call[\"name\"].lower()]\n",
    "    tool_output = tool.invoke(tool_call[\"args\"])\n",
    "    messages.append(ToolMessage(content=tool_output, tool_call_id=tool_call[\"id\"]))\n",
    "\n",
    "llm_with_tools.invoke(messages)"
   ]
  },
  {
   "cell_type": "code",
   "execution_count": 36,
   "metadata": {},
   "outputs": [],
   "source": [
    "def should_continue(state: AgentState):\n",
    "    print(\"STATE:\", state)\n",
    "    messages = state[\"messages\"]\n",
    "    last_message = messages[-1]\n",
    "    if not last_message.tool_calls:\n",
    "        return \"end\"\n",
    "    else:\n",
    "        return \"continue\"\n",
    "\n",
    "\n",
    "def call_model(state: AgentState):\n",
    "    messages = state[\"messages\"]\n",
    "    response = llm_with_tools.invoke(messages)\n",
    "    return {\"messages\": [response], \"api_call_count\": state[\"api_call_count\"]}\n",
    "\n",
    "\n",
    "def call_tool(state: AgentState):\n",
    "    messages = state[\"messages\"]\n",
    "    last_message = messages[-1]\n",
    "    tool_call = last_message.tool_calls[0]\n",
    "    tool = tool_mapping[tool_call[\"name\"].lower()]\n",
    "    tool_output = tool.invoke(tool_call[\"args\"])\n",
    "    state[\"api_call_count\"] += 1\n",
    "    print(\"Tool output:\", tool_output)\n",
    "    print(\"API call count after this tool call:\", state[\"api_call_count\"])\n",
    "    tool_message = ToolMessage(content=tool_output, tool_call_id=tool_call[\"id\"])\n",
    "    return {\"messages\": [tool_message], \"api_call_count\": state[\"api_call_count\"]}"
   ]
  },
  {
   "cell_type": "code",
   "execution_count": 37,
   "metadata": {},
   "outputs": [],
   "source": [
    "from langgraph.graph import StateGraph, END\n",
    "\n",
    "workflow = StateGraph(AgentState)\n",
    "\n",
    "workflow.add_node(\"agent\", call_model)\n",
    "workflow.add_node(\"action\", call_tool)\n",
    "\n",
    "workflow.set_entry_point(\"agent\")\n",
    "\n",
    "workflow.add_conditional_edges(\n",
    "    \"agent\",\n",
    "    should_continue,\n",
    "    {\n",
    "        \"continue\": \"action\",\n",
    "        \"end\": END,\n",
    "    },\n",
    ")\n",
    "workflow.add_edge(\"action\", \"agent\")\n",
    "workflow.set_entry_point(\"agent\")\n",
    "\n",
    "app = workflow.compile()"
   ]
  },
  {
   "cell_type": "code",
   "execution_count": 38,
   "metadata": {},
   "outputs": [
    {
     "data": {
      "image/jpeg": "[encoded data removed]",
      "text/plain": [
       "<IPython.core.display.Image object>"
      ]
     },
     "metadata": {},
     "output_type": "display_data"
    }
   ],
   "source": [
    "from IPython.display import Image, display\n",
    "\n",
    "try:\n",
    "    display(Image(app.get_graph(xray=True).draw_mermaid_png()))\n",
    "except:\n",
    "    pass"
   ]
  },
  {
   "cell_type": "code",
   "execution_count": 39,
   "metadata": {},
   "outputs": [
    {
     "name": "stdout",
     "output_type": "stream",
     "text": [
      "STATE: {'messages': [SystemMessage(content='You are responsible for answering user questions. You use tools for that, These tools sometimes fail and you are very resilient and trying them again'), HumanMessage(content='How is the weather in munich today?'), AIMessage(content='', additional_kwargs={'tool_calls': [{'id': 'call_YXLZ1swCwHOpObWDvYpuGq7d', 'function': {'arguments': '{\"city\":\"Munich\"}', 'name': 'fake_weather_api'}, 'type': 'function'}]}, response_metadata={'token_usage': {'completion_tokens': 17, 'prompt_tokens': 95, 'total_tokens': 112}, 'model_name': 'gpt-3.5-turbo-0125', 'system_fingerprint': None, 'finish_reason': 'tool_calls', 'logprobs': None}, id='run-5fff6958-f8de-440e-9bc9-0d6e0c574ab8-0', tool_calls=[{'name': 'fake_weather_api', 'args': {'city': 'Munich'}, 'id': 'call_YXLZ1swCwHOpObWDvYpuGq7d', 'type': 'tool_call'}], usage_metadata={'input_tokens': 95, 'output_tokens': 17, 'total_tokens': 112})], 'api_call_count': 0}\n",
      "Tool output: Service temporarily unavailable\n",
      "API call count after this tool call: 1\n",
      "STATE: {'messages': [SystemMessage(content='You are responsible for answering user questions. You use tools for that, These tools sometimes fail and you are very resilient and trying them again'), HumanMessage(content='How is the weather in munich today?'), AIMessage(content='', additional_kwargs={'tool_calls': [{'id': 'call_YXLZ1swCwHOpObWDvYpuGq7d', 'function': {'arguments': '{\"city\":\"Munich\"}', 'name': 'fake_weather_api'}, 'type': 'function'}]}, response_metadata={'token_usage': {'completion_tokens': 17, 'prompt_tokens': 95, 'total_tokens': 112}, 'model_name': 'gpt-3.5-turbo-0125', 'system_fingerprint': None, 'finish_reason': 'tool_calls', 'logprobs': None}, id='run-5fff6958-f8de-440e-9bc9-0d6e0c574ab8-0', tool_calls=[{'name': 'fake_weather_api', 'args': {'city': 'Munich'}, 'id': 'call_YXLZ1swCwHOpObWDvYpuGq7d', 'type': 'tool_call'}], usage_metadata={'input_tokens': 95, 'output_tokens': 17, 'total_tokens': 112}), ToolMessage(content='Service temporarily unavailable', tool_call_id='call_YXLZ1swCwHOpObWDvYpuGq7d'), AIMessage(content='', additional_kwargs={'tool_calls': [{'id': 'call_mBMMEiSvLlvcoKxmGznDcoMK', 'function': {'arguments': '{\"city\":\"Munich\"}', 'name': 'fake_weather_api'}, 'type': 'function'}]}, response_metadata={'token_usage': {'completion_tokens': 17, 'prompt_tokens': 124, 'total_tokens': 141}, 'model_name': 'gpt-3.5-turbo-0125', 'system_fingerprint': None, 'finish_reason': 'tool_calls', 'logprobs': None}, id='run-5e2ef857-6ad6-42e2-b5d3-e3c084f330d5-0', tool_calls=[{'name': 'fake_weather_api', 'args': {'city': 'Munich'}, 'id': 'call_mBMMEiSvLlvcoKxmGznDcoMK', 'type': 'tool_call'}], usage_metadata={'input_tokens': 124, 'output_tokens': 17, 'total_tokens': 141})], 'api_call_count': 1}\n",
      "Tool output: Service temporarily unavailable\n",
      "API call count after this tool call: 2\n",
      "STATE: {'messages': [SystemMessage(content='You are responsible for answering user questions. You use tools for that, These tools sometimes fail and you are very resilient and trying them again'), HumanMessage(content='How is the weather in munich today?'), AIMessage(content='', additional_kwargs={'tool_calls': [{'id': 'call_YXLZ1swCwHOpObWDvYpuGq7d', 'function': {'arguments': '{\"city\":\"Munich\"}', 'name': 'fake_weather_api'}, 'type': 'function'}]}, response_metadata={'token_usage': {'completion_tokens': 17, 'prompt_tokens': 95, 'total_tokens': 112}, 'model_name': 'gpt-3.5-turbo-0125', 'system_fingerprint': None, 'finish_reason': 'tool_calls', 'logprobs': None}, id='run-5fff6958-f8de-440e-9bc9-0d6e0c574ab8-0', tool_calls=[{'name': 'fake_weather_api', 'args': {'city': 'Munich'}, 'id': 'call_YXLZ1swCwHOpObWDvYpuGq7d', 'type': 'tool_call'}], usage_metadata={'input_tokens': 95, 'output_tokens': 17, 'total_tokens': 112}), ToolMessage(content='Service temporarily unavailable', tool_call_id='call_YXLZ1swCwHOpObWDvYpuGq7d'), AIMessage(content='', additional_kwargs={'tool_calls': [{'id': 'call_mBMMEiSvLlvcoKxmGznDcoMK', 'function': {'arguments': '{\"city\":\"Munich\"}', 'name': 'fake_weather_api'}, 'type': 'function'}]}, response_metadata={'token_usage': {'completion_tokens': 17, 'prompt_tokens': 124, 'total_tokens': 141}, 'model_name': 'gpt-3.5-turbo-0125', 'system_fingerprint': None, 'finish_reason': 'tool_calls', 'logprobs': None}, id='run-5e2ef857-6ad6-42e2-b5d3-e3c084f330d5-0', tool_calls=[{'name': 'fake_weather_api', 'args': {'city': 'Munich'}, 'id': 'call_mBMMEiSvLlvcoKxmGznDcoMK', 'type': 'tool_call'}], usage_metadata={'input_tokens': 124, 'output_tokens': 17, 'total_tokens': 141}), ToolMessage(content='Service temporarily unavailable', tool_call_id='call_mBMMEiSvLlvcoKxmGznDcoMK'), AIMessage(content='', additional_kwargs={'tool_calls': [{'id': 'call_hhakJLkR976cYVAaFsBHhnzU', 'function': {'arguments': '{\"city\":\"Munich\"}', 'name': 'fake_weather_api'}, 'type': 'function'}]}, response_metadata={'token_usage': {'completion_tokens': 17, 'prompt_tokens': 153, 'total_tokens': 170}, 'model_name': 'gpt-3.5-turbo-0125', 'system_fingerprint': None, 'finish_reason': 'tool_calls', 'logprobs': None}, id='run-a480b006-36c7-4520-8b15-62a90c8ddbb5-0', tool_calls=[{'name': 'fake_weather_api', 'args': {'city': 'Munich'}, 'id': 'call_hhakJLkR976cYVAaFsBHhnzU', 'type': 'tool_call'}], usage_metadata={'input_tokens': 153, 'output_tokens': 17, 'total_tokens': 170})], 'api_call_count': 2}\n",
      "Tool output: Sunny, 22°C\n",
      "API call count after this tool call: 3\n",
      "STATE: {'messages': [SystemMessage(content='You are responsible for answering user questions. You use tools for that, These tools sometimes fail and you are very resilient and trying them again'), HumanMessage(content='How is the weather in munich today?'), AIMessage(content='', additional_kwargs={'tool_calls': [{'id': 'call_YXLZ1swCwHOpObWDvYpuGq7d', 'function': {'arguments': '{\"city\":\"Munich\"}', 'name': 'fake_weather_api'}, 'type': 'function'}]}, response_metadata={'token_usage': {'completion_tokens': 17, 'prompt_tokens': 95, 'total_tokens': 112}, 'model_name': 'gpt-3.5-turbo-0125', 'system_fingerprint': None, 'finish_reason': 'tool_calls', 'logprobs': None}, id='run-5fff6958-f8de-440e-9bc9-0d6e0c574ab8-0', tool_calls=[{'name': 'fake_weather_api', 'args': {'city': 'Munich'}, 'id': 'call_YXLZ1swCwHOpObWDvYpuGq7d', 'type': 'tool_call'}], usage_metadata={'input_tokens': 95, 'output_tokens': 17, 'total_tokens': 112}), ToolMessage(content='Service temporarily unavailable', tool_call_id='call_YXLZ1swCwHOpObWDvYpuGq7d'), AIMessage(content='', additional_kwargs={'tool_calls': [{'id': 'call_mBMMEiSvLlvcoKxmGznDcoMK', 'function': {'arguments': '{\"city\":\"Munich\"}', 'name': 'fake_weather_api'}, 'type': 'function'}]}, response_metadata={'token_usage': {'completion_tokens': 17, 'prompt_tokens': 124, 'total_tokens': 141}, 'model_name': 'gpt-3.5-turbo-0125', 'system_fingerprint': None, 'finish_reason': 'tool_calls', 'logprobs': None}, id='run-5e2ef857-6ad6-42e2-b5d3-e3c084f330d5-0', tool_calls=[{'name': 'fake_weather_api', 'args': {'city': 'Munich'}, 'id': 'call_mBMMEiSvLlvcoKxmGznDcoMK', 'type': 'tool_call'}], usage_metadata={'input_tokens': 124, 'output_tokens': 17, 'total_tokens': 141}), ToolMessage(content='Service temporarily unavailable', tool_call_id='call_mBMMEiSvLlvcoKxmGznDcoMK'), AIMessage(content='', additional_kwargs={'tool_calls': [{'id': 'call_hhakJLkR976cYVAaFsBHhnzU', 'function': {'arguments': '{\"city\":\"Munich\"}', 'name': 'fake_weather_api'}, 'type': 'function'}]}, response_metadata={'token_usage': {'completion_tokens': 17, 'prompt_tokens': 153, 'total_tokens': 170}, 'model_name': 'gpt-3.5-turbo-0125', 'system_fingerprint': None, 'finish_reason': 'tool_calls', 'logprobs': None}, id='run-a480b006-36c7-4520-8b15-62a90c8ddbb5-0', tool_calls=[{'name': 'fake_weather_api', 'args': {'city': 'Munich'}, 'id': 'call_hhakJLkR976cYVAaFsBHhnzU', 'type': 'tool_call'}], usage_metadata={'input_tokens': 153, 'output_tokens': 17, 'total_tokens': 170}), ToolMessage(content='Sunny, 22°C', tool_call_id='call_hhakJLkR976cYVAaFsBHhnzU'), AIMessage(content='The weather in Munich today is sunny with a temperature of 22°C.', response_metadata={'token_usage': {'completion_tokens': 16, 'prompt_tokens': 185, 'total_tokens': 201}, 'model_name': 'gpt-3.5-turbo-0125', 'system_fingerprint': None, 'finish_reason': 'stop', 'logprobs': None}, id='run-5b52f785-ee9a-4ee8-beb3-709679c21188-0', usage_metadata={'input_tokens': 185, 'output_tokens': 16, 'total_tokens': 201})], 'api_call_count': 3}\n"
     ]
    }
   ],
   "source": [
    "from langchain_core.messages import SystemMessage\n",
    "\n",
    "system_message = SystemMessage(\n",
    "    content=\"You are responsible for answering user questions. You use tools for that, These tools sometimes fail and you are very resilient and trying them again\"\n",
    ")\n",
    "human_message = HumanMessage(content=\"How is the weather in munich today?\")\n",
    "messages = [system_message, human_message]\n",
    "\n",
    "result = app.invoke({\"messages\": messages, \"api_call_count\": 0})"
   ]
  },
  {
   "cell_type": "code",
   "execution_count": 40,
   "metadata": {},
   "outputs": [
    {
     "name": "stdout",
     "output_type": "stream",
     "text": [
      "The weather in Munich today is sunny with a temperature of 22°C.\n",
      "3\n"
     ]
    }
   ],
   "source": [
    "print(result[\"messages\"][-1].content)\n",
    "print(result[\"api_call_count\"])"
   ]
  },
  {
   "cell_type": "markdown",
   "metadata": {},
   "source": [
    "## 추가 사항"
   ]
  },
  {
   "cell_type": "markdown",
   "metadata": {},
   "source": [
    "### openai 에서 claude로 변경하기\n",
    "\n"
   ]
  },
  {
   "cell_type": "markdown",
   "metadata": {},
   "source": [
    "### python test 짜기 \n"
   ]
  },
  {
   "cell_type": "markdown",
   "metadata": {},
   "source": [
    "![alt text](images/Readme/image-2.png)\n",
    "\n",
    "![alt text](images/Readme/image-3.png)\n",
    "\n",
    "![alt text](images/Readme/image-4.png)\n",
    "\n",
    "![alt text](images/Readme/image-5.png)\n",
    "\n",
    "![alt text](images/Readme/image-6.png)\n",
    "\n",
    "![alt text](images/Readme/image-7.png)\n"
   ]
  },
  {
   "cell_type": "markdown",
   "metadata": {},
   "source": [
    "## 이후 생긴 문제\n",
    "\n",
    "1. email 이 형태가 거지같음..막 이상한게 들어감. \n",
    "1. 이메일을 다넘겻더니 html이 엄청 커져서 돈이 많이 나옮\n",
    "1. beatifulsoup을 사용하여 html다 빼버림.\n",
    "1. 에러나느 내용은 어쩔수가 없어서 상당히 걱정됨.\n",
    "1. 갑자기 claude로 바꿔달라고함. "
   ]
  }
 ],
 "metadata": {
  "kernelspec": {
   "display_name": "app",
   "language": "python",
   "name": "python3"
  },
  "language_info": {
   "codemirror_mode": {
    "name": "ipython",
    "version": 3
   },
   "file_extension": ".py",
   "mimetype": "text/x-python",
   "name": "python",
   "nbconvert_exporter": "python",
   "pygments_lexer": "ipython3",
   "version": "3.12.3"
  }
 },
 "nbformat": 4,
 "nbformat_minor": 2
}
