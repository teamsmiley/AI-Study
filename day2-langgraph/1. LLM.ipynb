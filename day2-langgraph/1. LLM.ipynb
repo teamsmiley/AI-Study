{
 "cells": [
  {
   "cell_type": "markdown",
   "metadata": {},
   "source": [
    "# LLM"
   ]
  },
  {
   "cell_type": "markdown",
   "metadata": {},
   "source": [
    "## LLM 은 무엇인가?\n",
    "\n",
    "뭔가를 물어보면 답을 해주는 말만하는 입코딩만 하는 봇입니다."
   ]
  },
  {
   "cell_type": "markdown",
   "metadata": {},
   "source": [
    "## LLM의 흐름 \n",
    "\n",
    "기본적으로 2개의 흐름으로 나아가고 있습니다.\n",
    "\n",
    "1. RAG \n",
    "1. AGENT"
   ]
  },
  {
   "cell_type": "markdown",
   "metadata": {},
   "source": [
    "## RAG (Retrieval-Augmented Generation) \n",
    "\n",
    "검색 증강 생성\n",
    "\n",
    "https://teamsmiley.gitbook.io/devops/ai/langchain/rag"
   ]
  },
  {
   "cell_type": "markdown",
   "metadata": {},
   "source": [
    "## AGENT\n",
    "\n",
    "인공지능이 나를 대신해서 생각을 해주는것. \n",
    "\n",
    "여전히 내가 특정일에 대한 코딩은 다 해야한다. 그러나 생각하는 부분은 인공지능이 해준다.\n",
    "\n",
    "중요한것은 하나의 일만 생각하는게 아니라 하나의 일을 시키면 그 여러가지 단계를 생각하고 거기에 맞는 답을 순차적으로 해준다.\n",
    "\n",
    "인공지능 = LLM"
   ]
  },
  {
   "cell_type": "markdown",
   "metadata": {},
   "source": [
    "### ReAct \n",
    "\n",
    "https://react-lm.github.io/\n",
    "\n",
    "https://til.simonwillison.net/llms/python-react-pattern"
   ]
  },
  {
   "cell_type": "markdown",
   "metadata": {},
   "source": [
    "## openai에  사용하기"
   ]
  },
  {
   "cell_type": "code",
   "execution_count": 13,
   "metadata": {},
   "outputs": [
    {
     "data": {
      "text/plain": [
       "True"
      ]
     },
     "execution_count": 13,
     "metadata": {},
     "output_type": "execute_result"
    }
   ],
   "source": [
    "from dotenv import load_dotenv\n",
    "\n",
    "load_dotenv()"
   ]
  },
  {
   "cell_type": "code",
   "execution_count": 14,
   "metadata": {},
   "outputs": [
    {
     "name": "stdout",
     "output_type": "stream",
     "text": [
      "[답변]: content='대한민국의 수도는 서울입니다.' response_metadata={'token_usage': {'completion_tokens': 15, 'prompt_tokens': 24, 'total_tokens': 39}, 'model_name': 'gpt-3.5-turbo-0125', 'system_fingerprint': None, 'finish_reason': 'stop', 'logprobs': None} id='run-f8d3072a-ae69-4507-8990-1a60a52a4851-0' usage_metadata={'input_tokens': 24, 'output_tokens': 15, 'total_tokens': 39}\n"
     ]
    }
   ],
   "source": [
    "from langchain_openai import ChatOpenAI\n",
    "\n",
    "llm = ChatOpenAI(\n",
    "  temperature = 0.1, # 창의성 (0.0 ~ 2.0)\n",
    ")\n",
    "\n",
    "# 질의내용\n",
    "prompt = \"대한민국의 수도는 어디인가요?\"\n",
    "answer = llm.invoke(prompt)\n",
    "# 질의\n",
    "print(f\"[답변]: {answer}\")"
   ]
  },
  {
   "cell_type": "markdown",
   "metadata": {},
   "source": [
    "- llm은 현재는 기억을 하지 못한다 그래서 대화내용을 합쳐서 계속 보내야한다.\n",
    "\n",
    "- system message, human message, ai message 등으로 나눠서 보내면 좋다. 그리고 tool message도 있다."
   ]
  }
 ],
 "metadata": {
  "kernelspec": {
   "display_name": "app",
   "language": "python",
   "name": "python3"
  },
  "language_info": {
   "codemirror_mode": {
    "name": "ipython",
    "version": 3
   },
   "file_extension": ".py",
   "mimetype": "text/x-python",
   "name": "python",
   "nbconvert_exporter": "python",
   "pygments_lexer": "ipython3",
   "version": "3.12.3"
  }
 },
 "nbformat": 4,
 "nbformat_minor": 2
}
