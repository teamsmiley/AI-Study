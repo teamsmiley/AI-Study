{
  "cells": [
    {
      "cell_type": "code",
      "execution_count": 1,
      "metadata": {
        "id": "F_25m6FwCdpK"
      },
      "outputs": [],
      "source": [
        "%%capture\n",
        "# update or install the necessary libraries\n",
        "!pip install --upgrade openai\n",
        "!pip install --upgrade python-dotenv"
      ]
    },
    {
      "cell_type": "code",
      "execution_count": 3,
      "metadata": {
        "id": "VEsjV94rD5SN"
      },
      "outputs": [
        {
          "ename": "NameError",
          "evalue": "name 'userdata' is not defined",
          "output_type": "error",
          "traceback": [
            "\u001b[0;31m---------------------------------------------------------------------------\u001b[0m",
            "\u001b[0;31mNameError\u001b[0m                                 Traceback (most recent call last)",
            "Cell \u001b[0;32mIn[3], line 5\u001b[0m\n\u001b[1;32m      2\u001b[0m \u001b[38;5;28;01mfrom\u001b[39;00m \u001b[38;5;21;01mopenai\u001b[39;00m \u001b[38;5;28;01mimport\u001b[39;00m OpenAI\n\u001b[1;32m      4\u001b[0m \u001b[38;5;66;03m# client session\u001b[39;00m\n\u001b[0;32m----> 5\u001b[0m client \u001b[38;5;241m=\u001b[39m OpenAI(api_key\u001b[38;5;241m=\u001b[39m\u001b[43muserdata\u001b[49m\u001b[38;5;241m.\u001b[39mget(\u001b[38;5;124m'\u001b[39m\u001b[38;5;124mOPENAI_API_KEY\u001b[39m\u001b[38;5;124m'\u001b[39m))\n",
            "\u001b[0;31mNameError\u001b[0m: name 'userdata' is not defined"
          ]
        }
      ],
      "source": [
        "from pydantic import BaseModel\n",
        "from openai import OpenAI\n",
        "\n"
      ]
    },
    {
      "cell_type": "markdown",
      "metadata": {
        "id": "XDi0ls8EDdO5"
      },
      "source": [
        "# Structured Outputs with OpenAI APIs\n",
        "\n",
        "Reference blog: https://openai.com/index/introducing-structured-outputs-in-the-api/\n",
        "\n",
        "Reference documentation: https://platform.openai.com/docs/guides/structured-outputs/introduction"
      ]
    },
    {
      "cell_type": "markdown",
      "metadata": {
        "id": "_2NdUi2RDY62"
      },
      "source": [
        "## Simple Example of Structured Outputs"
      ]
    },
    {
      "cell_type": "code",
      "execution_count": null,
      "metadata": {
        "id": "a_EuvImlCwRp"
      },
      "outputs": [],
      "source": [
        "# Pydantic object\n",
        "class CalendarEvent(BaseModel):\n",
        "    name: str\n",
        "    date: str\n",
        "    participants: list[str]\n",
        "\n",
        "# call the model\n",
        "completion = client.beta.chat.completions.parse(\n",
        "    model=\"gpt-4o-2024-08-06\",\n",
        "    messages=[\n",
        "        {\"role\": \"system\", \"content\": \"Extract the event information.\"},\n",
        "        {\"role\": \"user\", \"content\": \"Alice and Bob are going to a science fair on Friday.\"},\n",
        "    ],\n",
        "    response_format=CalendarEvent,\n",
        ")\n",
        "\n",
        "event = completion.choices[0].message.parsed"
      ]
    },
    {
      "cell_type": "code",
      "execution_count": null,
      "metadata": {
        "colab": {
          "base_uri": "https://localhost:8080/"
        },
        "id": "30PANXiIC3IJ",
        "outputId": "96ae1d09-81bc-402c-d530-59737ae76bab"
      },
      "outputs": [
        {
          "data": {
            "text/plain": [
              "CalendarEvent(name='Science Fair', date='Friday', participants=['Alice', 'Bob'])"
            ]
          },
          "execution_count": 5,
          "metadata": {},
          "output_type": "execute_result"
        }
      ],
      "source": [
        "event"
      ]
    },
    {
      "cell_type": "markdown",
      "metadata": {
        "id": "5rTuylX_Dwsw"
      },
      "source": [
        "## Structuring Chain-of-Thought Responses"
      ]
    },
    {
      "cell_type": "code",
      "execution_count": null,
      "metadata": {
        "id": "5X1EDyj6DJ-g"
      },
      "outputs": [],
      "source": [
        "class Step(BaseModel):\n",
        "    explanation: str\n",
        "    output: str\n",
        "\n",
        "class MathReasoning(BaseModel):\n",
        "    steps: list[Step]\n",
        "    final_answer: str\n",
        "\n",
        "completion = client.beta.chat.completions.parse(\n",
        "    model=\"gpt-4o-2024-08-06\",\n",
        "    messages=[\n",
        "        {\"role\": \"system\", \"content\": \"You are a helpful math tutor. Guide the user through the solution step by step.\"},\n",
        "        {\"role\": \"user\", \"content\": \"how can I solve 8x + 7 = -23\"}\n",
        "    ],\n",
        "    response_format=MathReasoning,\n",
        ")\n",
        "\n",
        "math_reasoning = completion.choices[0].message.parsed"
      ]
    },
    {
      "cell_type": "code",
      "execution_count": null,
      "metadata": {
        "colab": {
          "base_uri": "https://localhost:8080/"
        },
        "id": "M6wHeOOgD2o0",
        "outputId": "2913952f-fdd4-4f79-c8bd-1d624bfe0f0a"
      },
      "outputs": [
        {
          "data": {
            "text/plain": [
              "MathReasoning(steps=[Step(explanation='Begin by isolating the term with the variable. To do this, subtract 7 from both sides of the equation.', output='8x + 7 - 7 = -23 - 7'), Step(explanation='Simplify both sides of the equation. On the left, 7 and -7 cancel each other out, leaving 8x, and on the right, you perform the subtraction -23 - 7.', output='8x = -30'), Step(explanation='Now, solve for x by dividing both sides by 8 to isolate x.', output='x = -30 / 8'), Step(explanation='Simplify the right side by reducing the fraction -30/8 to its simplest form. Both the numerator and the denominator can be divided by their greatest common divisor, which is 2.', output='x = -15/4'), Step(explanation='Express the fraction as a decimal. Divide -15 by 4 to get the decimal equivalent.', output='x = -3.75')], final_answer='x = -3.75')"
            ]
          },
          "execution_count": 10,
          "metadata": {},
          "output_type": "execute_result"
        }
      ],
      "source": [
        "math_reasoning"
      ]
    },
    {
      "cell_type": "markdown",
      "metadata": {
        "id": "8fOvjuIdFHQG"
      },
      "source": [
        "## Structured Output with Function Calling\n",
        "\n",
        "Useful when you are connecting the model to tools, functions, data, etc. in your system."
      ]
    },
    {
      "cell_type": "code",
      "execution_count": null,
      "metadata": {
        "id": "_2mIj-kWEBsJ"
      },
      "outputs": [],
      "source": [
        "tools = [\n",
        "    {\n",
        "        \"type\": \"function\",\n",
        "        \"function\": {\n",
        "            \"name\": \"get_delivery_date\",\n",
        "            \"description\": \"Get the delivery date for a customer's order. Call this whenever you need to know the delivery date, for example when a customer asks 'Where is my package'\",\n",
        "            \"parameters\": {\n",
        "                \"type\": \"object\",\n",
        "                \"properties\": {\n",
        "                    \"order_id\": {\n",
        "                        \"type\": \"string\",\n",
        "                        \"description\": \"The customer's order ID.\",\n",
        "                    },\n",
        "                },\n",
        "                \"required\": [\"order_id\"],\n",
        "                \"additionalProperties\": False,\n",
        "            },\n",
        "        },\n",
        "        \"strict\": True, # enables structured outputs\n",
        "    }\n",
        "]\n",
        "\n",
        "messages = []\n",
        "messages.append({\"role\": \"system\", \"content\": \"You are a helpful customer support assistant. Use the supplied tools to assist the user.\"})\n",
        "messages.append({\"role\": \"user\", \"content\": \"Hi, can you tell me the delivery date for my order?\"})\n",
        "\n",
        "response = client.chat.completions.create(\n",
        "    model='gpt-4o-2024-08-06',\n",
        "    messages=messages,\n",
        "    tools=tools,\n",
        ")"
      ]
    },
    {
      "cell_type": "code",
      "execution_count": null,
      "metadata": {
        "colab": {
          "base_uri": "https://localhost:8080/"
        },
        "id": "xkP4YpliFW8c",
        "outputId": "cbbcd95e-0970-4f7d-f5ca-94ce0e18589a"
      },
      "outputs": [
        {
          "data": {
            "text/plain": [
              "ChatCompletion(id='chatcmpl-9tJnKCqilscXhdn5omdhiEsKAUIEr', choices=[Choice(finish_reason='stop', index=0, logprobs=None, message=ChatCompletionMessage(content='Could you please provide me with your order ID so I can check the delivery date for you?', refusal=None, role='assistant', function_call=None, tool_calls=None))], created=1722971158, model='gpt-4o-2024-08-06', object='chat.completion', service_tier=None, system_fingerprint='fp_2a322c9ffc', usage=CompletionUsage(completion_tokens=20, prompt_tokens=107, total_tokens=127))"
            ]
          },
          "execution_count": 12,
          "metadata": {},
          "output_type": "execute_result"
        }
      ],
      "source": [
        "response"
      ]
    },
    {
      "cell_type": "markdown",
      "metadata": {
        "id": "6F_THWqWIKni"
      },
      "source": [
        "## Structured Output with `response_format`\n",
        "\n",
        "Useful when the model needs to respond to the user in a specified structured way."
      ]
    },
    {
      "cell_type": "code",
      "execution_count": null,
      "metadata": {
        "colab": {
          "base_uri": "https://localhost:8080/"
        },
        "id": "fq6YTmF4FZMw",
        "outputId": "2ef4e24c-07ab-4337-da69-34f0dd72d43b"
      },
      "outputs": [
        {
          "name": "stdout",
          "output_type": "stream",
          "text": [
            "{\"steps\":[{\"explanation\":\"The equation we start with is 8x + 7 = -23. To solve for x, we need to isolate x on one side of the equation.\",\"output\":\"Start with 8x + 7 = -23.\"},{\"explanation\":\"First, subtract 7 from both sides of the equation to begin isolating the term with x.\",\"output\":\"8x + 7 - 7 = -23 - 7\"},{\"explanation\":\"After performing the subtraction, we simplify both sides to get rid of the 7 on the left. This gives us 8x on the left and -30 on the right.\",\"output\":\"8x = -30\"},{\"explanation\":\"Now we need to solve for x by dividing both sides of the equation by 8.\",\"output\":\"8x / 8 = -30 / 8\"},{\"explanation\":\"Simplify the right side to give us the value of x. -30 divided by 8 is -3.75.\",\"output\":\"x = -3.75\"}],\"final_answer\":\"x = -3.75\"}\n"
          ]
        }
      ],
      "source": [
        "response = client.chat.completions.create(\n",
        "    model=\"gpt-4o-2024-08-06\",\n",
        "    messages=[\n",
        "        {\"role\": \"system\", \"content\": \"You are a helpful math tutor. Guide the user through the solution step by step.\"},\n",
        "        {\"role\": \"user\", \"content\": \"how can I solve 8x + 7 = -23\"}\n",
        "    ],\n",
        "    response_format={\n",
        "        \"type\": \"json_schema\",\n",
        "        \"json_schema\": {\n",
        "            \"name\": \"math_response\",\n",
        "            \"schema\": {\n",
        "                \"type\": \"object\",\n",
        "                \"properties\": {\n",
        "                    \"steps\": {\n",
        "                        \"type\": \"array\",\n",
        "                        \"items\": {\n",
        "                            \"type\": \"object\",\n",
        "                            \"prtropeies\": {\n",
        "                                \"explanation\": {\"type\": \"string\"},\n",
        "                                \"output\": {\"type\": \"string\"}\n",
        "                            },\n",
        "                            \"required\": [\"explanation\", \"output\"],\n",
        "                            \"additionalProperties\": False\n",
        "                        }\n",
        "                    },\n",
        "                    \"final_answer\": {\"type\": \"string\"}\n",
        "                },\n",
        "                \"required\": [\"steps\", \"final_answer\"],\n",
        "                \"additionalProperties\": False\n",
        "            },\n",
        "            \"strict\": True\n",
        "        }\n",
        "    }\n",
        ")\n",
        "\n",
        "print(response.choices[0].message.content)"
      ]
    },
    {
      "cell_type": "code",
      "execution_count": null,
      "metadata": {
        "id": "aCFLVOiMIZbw"
      },
      "outputs": [],
      "source": []
    }
  ],
  "metadata": {
    "colab": {
      "provenance": []
    },
    "kernelspec": {
      "display_name": "Python 3",
      "name": "python3"
    },
    "language_info": {
      "codemirror_mode": {
        "name": "ipython",
        "version": 3
      },
      "file_extension": ".py",
      "mimetype": "text/x-python",
      "name": "python",
      "nbconvert_exporter": "python",
      "pygments_lexer": "ipython3",
      "version": "3.12.3"
    }
  },
  "nbformat": 4,
  "nbformat_minor": 0
}
